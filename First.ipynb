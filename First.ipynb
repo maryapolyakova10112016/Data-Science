{
  "nbformat": 4,
  "nbformat_minor": 0,
  "metadata": {
    "colab": {
      "provenance": [],
      "authorship_tag": "ABX9TyOQY4ZmBhpPq8MWUEU7OqXB",
      "include_colab_link": true
    },
    "kernelspec": {
      "name": "python3",
      "display_name": "Python 3"
    },
    "language_info": {
      "name": "python"
    }
  },
  "cells": [
    {
      "cell_type": "markdown",
      "metadata": {
        "id": "view-in-github",
        "colab_type": "text"
      },
      "source": [
        "<a href=\"https://colab.research.google.com/github/maryapolyakova10112016/Data-Science/blob/main/First.ipynb\" target=\"_parent\"><img src=\"https://colab.research.google.com/assets/colab-badge.svg\" alt=\"Open In Colab\"/></a>"
      ]
    },
    {
      "cell_type": "code",
      "execution_count": 1,
      "metadata": {
        "colab": {
          "base_uri": "https://localhost:8080/"
        },
        "id": "LU73GlAyWWNl",
        "outputId": "5aa35054-1c75-46fd-c25b-fb9ad3f8698c"
      },
      "outputs": [
        {
          "output_type": "stream",
          "name": "stdout",
          "text": [
            "                               Оригинал                          После замены\n",
            "0                             Пистолеты                             Пи*то*ет*\n",
            "1               Ножи и колющие предметы               Но*и * к*лю*ие*пр*дм*ты\n",
            "2                        Тупые предметы                        Ту*ые*пр*дм*ты\n",
            "3  Личные «орудия» (руки, кулаки, ноги)  Ли*ны* «*ру*ия* (*ук*, *ул*ки* н*ги*\n",
            "4                  Винтовки и дробовики                  Ви*то*ки*и *ро*ов*ки\n"
          ]
        }
      ],
      "source": [
        "import pandas as pd\n",
        "weapons = [\n",
        "    \"Пистолеты\",\n",
        "    \"Ножи и колющие предметы\",\n",
        "    \"Тупые предметы\",\n",
        "    \"Личные «орудия» (руки, кулаки, ноги)\",\n",
        "    \"Винтовки и дробовики\"\n",
        "]\n",
        "\n",
        "def replace_third_char(s):\n",
        "    return \"\".join(\"*\" if (i+1) % 3 == 0 else ch for i, ch in enumerate(s))\n",
        "df = pd.DataFrame({\n",
        "    \"Оригинал\": weapons,\n",
        "    \"После замены\": [replace_third_char(w) for w in weapons]\n",
        "})\n",
        "print(df)\n"
      ]
    },
    {
      "cell_type": "code",
      "source": [
        "weapons = [\n",
        "    \"Пистолеты\",\n",
        "    \"Ножи и колющие предметы\",\n",
        "    \"Тупые предметы\",\n",
        "    \"Личные «орудия» (руки, кулаки, ноги)\",\n",
        "    \"Винтовки и дробовики\"\n",
        "]\n",
        "def replace_third_char(s):\n",
        "    return \"\".join(\"*\" if (i+1) % 3 == 0 else ch for i, ch in enumerate(s))\n",
        "\n",
        "modified_weapons = [replace_third_char(w) for w in weapons]\n",
        "\n",
        "for line in modified_weapons:\n",
        "    print(line)\n"
      ],
      "metadata": {
        "colab": {
          "base_uri": "https://localhost:8080/"
        },
        "id": "hW_ybxnhWaJI",
        "outputId": "6c9cfc56-8f36-4d4a-c96b-5e30821a5c33"
      },
      "execution_count": 2,
      "outputs": [
        {
          "output_type": "stream",
          "name": "stdout",
          "text": [
            "Пи*то*ет*\n",
            "Но*и * к*лю*ие*пр*дм*ты\n",
            "Ту*ые*пр*дм*ты\n",
            "Ли*ны* «*ру*ия* (*ук*, *ул*ки* н*ги*\n",
            "Ви*то*ки*и *ро*ов*ки\n"
          ]
        }
      ]
    },
    {
      "cell_type": "code",
      "source": [],
      "metadata": {
        "id": "xJsstIpvWo3u"
      },
      "execution_count": null,
      "outputs": []
    }
  ]
}